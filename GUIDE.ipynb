{
 "cells": [
  {
   "cell_type": "markdown",
   "metadata": {},
   "source": [
    "# Introduction"
   ]
  },
  {
   "cell_type": "markdown",
   "metadata": {},
   "source": [
    "In order to use this extention it needs to be loaded with\n",
    "\n",
    "    %load_ext snippets_menu_magic"
   ]
  },
  {
   "cell_type": "code",
   "execution_count": 34,
   "metadata": {},
   "outputs": [
    {
     "data": {
      "text/plain": [
       "['',\n",
       " '/home/es/dev/anaconda2/envs/meteo/lib/python36.zip',\n",
       " '/home/es/dev/anaconda2/envs/meteo/lib/python3.6',\n",
       " '/home/es/dev/anaconda2/envs/meteo/lib/python3.6/lib-dynload',\n",
       " '/home/es/dev/anaconda2/envs/meteo/lib/python3.6/site-packages',\n",
       " '/home/es/dev/anaconda2/envs/meteo/lib/python3.6/site-packages/IPython/extensions',\n",
       " '/home/es/.ipython']"
      ]
     },
     "execution_count": 34,
     "metadata": {},
     "output_type": "execute_result"
    }
   ],
   "source": [
    "import sys\n",
    "sys.path"
   ]
  },
  {
   "cell_type": "markdown",
   "metadata": {},
   "source": [
    "Any time you want to see the help for a function use the `?` :\n",
    "\n",
    "    %%snip_add?\n",
    "    %snip_search?"
   ]
  },
  {
   "cell_type": "markdown",
   "metadata": {},
   "source": [
    "# Add a nested snippet menu"
   ]
  },
  {
   "cell_type": "markdown",
   "metadata": {},
   "source": [
    "A nested menu can be created or replaced on the fly even if the parent tree is not present already (like mkdir -p /new/path)\n",
    "\n",
    "If a value is alread present it will be replaced with the new one"
   ]
  },
  {
   "cell_type": "code",
   "execution_count": 2,
   "metadata": {},
   "outputs": [],
   "source": [
    "%%snip_add \"testone/bar/sub/sub2\"\n",
    "sub-leaf"
   ]
  },
  {
   "cell_type": "markdown",
   "metadata": {},
   "source": [
    "# Show"
   ]
  },
  {
   "cell_type": "markdown",
   "metadata": {},
   "source": [
    "show the stored json menu niceley formatted"
   ]
  },
  {
   "cell_type": "code",
   "execution_count": 3,
   "metadata": {},
   "outputs": [
    {
     "name": "stdout",
     "output_type": "stream",
     "text": [
      "{\n",
      "    \"testone\": {\n",
      "        \"bar\": {\n",
      "            \"sub\": {\n",
      "                \"sub2\": {\n",
      "                    \"snippet\": [\n",
      "                        \"sub-leaf\"\n",
      "                    ]\n",
      "                }\n",
      "            }\n",
      "        }\n",
      "    }\n",
      "}\n"
     ]
    }
   ],
   "source": [
    "%snip_show"
   ]
  },
  {
   "cell_type": "markdown",
   "metadata": {},
   "source": [
    "# Add"
   ]
  },
  {
   "cell_type": "markdown",
   "metadata": {},
   "source": [
    "Paths can be specified also using separate words and, as long as they don't contains spaces, quotes can be ommited"
   ]
  },
  {
   "cell_type": "code",
   "execution_count": 29,
   "metadata": {},
   "outputs": [],
   "source": [
    "%%snip_add testone bar\n",
    "leaf\n",
    "etc"
   ]
  },
  {
   "cell_type": "code",
   "execution_count": 30,
   "metadata": {},
   "outputs": [],
   "source": [
    "%%snip_add testone/bar2\n",
    "leaf and flower\n",
    "etc foo"
   ]
  },
  {
   "cell_type": "code",
   "execution_count": 31,
   "metadata": {},
   "outputs": [],
   "source": [
    "%%snip_add \"testone/bar 3\"\n",
    "etcetc"
   ]
  },
  {
   "cell_type": "markdown",
   "metadata": {},
   "source": [
    "But **not** this. This will **not** error but will produces invalid keys\n",
    "\n",
    "    %%snip_add testone/\"bar 3\"\n"
   ]
  },
  {
   "cell_type": "markdown",
   "metadata": {},
   "source": [
    "### Don't use reserved name  'snippet', 'internal-link', 'external-link', 'menu-direction', 'sub-menu-direction'\n",
    "this will error\n",
    "\n",
    "    %%snip_add magic add snippet"
   ]
  },
  {
   "cell_type": "markdown",
   "metadata": {},
   "source": [
    "## All the menu under **top** will appear as a top menu. \n"
   ]
  },
  {
   "cell_type": "markdown",
   "metadata": {},
   "source": [
    "## Add external link   "
   ]
  },
  {
   "cell_type": "code",
   "execution_count": 7,
   "metadata": {},
   "outputs": [],
   "source": [
    "%%snip_add top bookmarks snippets_menu_magic -link\n",
    "https://github.com/diramazioni/snippets_menu_magic"
   ]
  },
  {
   "cell_type": "code",
   "execution_count": 8,
   "metadata": {},
   "outputs": [],
   "source": [
    "%%snip_add top bookmarks nbextensions -link\n",
    "https://github.com/ipython-contrib/jupyter_contrib_nbextensions"
   ]
  },
  {
   "cell_type": "markdown",
   "metadata": {},
   "source": [
    "## internal-link\n",
    "    %%snip_add bookmarks -ilink"
   ]
  },
  {
   "cell_type": "markdown",
   "metadata": {},
   "source": [
    "# Dump"
   ]
  },
  {
   "cell_type": "markdown",
   "metadata": {
    "run_control": {
     "marked": true
    }
   },
   "source": [
    "The custom.js is written every time a menu is add or removed so a simple refresh of the page should show the menu under Snippets\n",
    "\n",
    "The menu.json (the default menu) or the user specified json is written only with dump. \n",
    "\n",
    "A source path to export can be provided exporting only the child of that node"
   ]
  },
  {
   "cell_type": "markdown",
   "metadata": {},
   "source": [
    "### Dump the default menu"
   ]
  },
  {
   "cell_type": "code",
   "execution_count": 9,
   "metadata": {
    "scrolled": true
   },
   "outputs": [
    {
     "name": "stdout",
     "output_type": "stream",
     "text": [
      "writting  menu.json\n"
     ]
    }
   ],
   "source": [
    "%snip_dump"
   ]
  },
  {
   "cell_type": "markdown",
   "metadata": {},
   "source": [
    "Let's save the bookmarks in a separate file"
   ]
  },
  {
   "cell_type": "code",
   "execution_count": 10,
   "metadata": {},
   "outputs": [
    {
     "name": "stdout",
     "output_type": "stream",
     "text": [
      "writting  bookmarks.json\n"
     ]
    }
   ],
   "source": [
    "%snip_dump -f bookmarks.json top/bookmarks"
   ]
  },
  {
   "cell_type": "markdown",
   "metadata": {},
   "source": [
    "# Load"
   ]
  },
  {
   "cell_type": "code",
   "execution_count": 23,
   "metadata": {},
   "outputs": [],
   "source": [
    "%snip_load -f bookmarks.json top/fav\n",
    "#%snip_show"
   ]
  },
  {
   "cell_type": "markdown",
   "metadata": {},
   "source": [
    "# Remove"
   ]
  },
  {
   "cell_type": "code",
   "execution_count": 12,
   "metadata": {
    "run_control": {
     "marked": true
    }
   },
   "outputs": [
    {
     "name": "stdout",
     "output_type": "stream",
     "text": [
      "deleted  1\n"
     ]
    }
   ],
   "source": [
    "%snip_rm top/bookmarks"
   ]
  },
  {
   "cell_type": "code",
   "execution_count": 24,
   "metadata": {
    "run_control": {
     "marked": true
    }
   },
   "outputs": [],
   "source": [
    "#%snip_show"
   ]
  },
  {
   "cell_type": "markdown",
   "metadata": {},
   "source": [
    "# Move / rename"
   ]
  },
  {
   "cell_type": "code",
   "execution_count": 14,
   "metadata": {},
   "outputs": [],
   "source": [
    "%snip_mv top/fav top/bookmarks"
   ]
  },
  {
   "cell_type": "markdown",
   "metadata": {},
   "source": [
    "# Search"
   ]
  },
  {
   "cell_type": "markdown",
   "metadata": {},
   "source": [
    "You can search by menu name and content in two ways:\n",
    "\n",
    "- %snip_search _'pretty'_ prints the results and returns an iteratable to further explore the results\n",
    "- %snip_subset returns a subset of the original dictionary containing the results"
   ]
  },
  {
   "cell_type": "markdown",
   "metadata": {},
   "source": [
    "search at all levels a menu called _bar_"
   ]
  },
  {
   "cell_type": "code",
   "execution_count": 32,
   "metadata": {},
   "outputs": [
    {
     "name": "stdout",
     "output_type": "stream",
     "text": [
      "/testone/bar\n",
      "\n",
      "--------------------\n",
      "leaf\n",
      "etc\n",
      "====================\n"
     ]
    },
    {
     "data": {
      "text/plain": [
       "[('testone/bar', {'snippet': ['leaf', 'etc']})]"
      ]
     },
     "execution_count": 32,
     "metadata": {},
     "output_type": "execute_result"
    }
   ],
   "source": [
    "%snip_search \"**/bar\""
   ]
  },
  {
   "cell_type": "markdown",
   "metadata": {},
   "source": [
    "search at all levels a menu that starts with _bar_ and save the result in `s`"
   ]
  },
  {
   "cell_type": "code",
   "execution_count": 33,
   "metadata": {},
   "outputs": [
    {
     "name": "stdout",
     "output_type": "stream",
     "text": [
      "/testone/bar\n",
      "\n",
      "--------------------\n",
      "leaf\n",
      "etc\n",
      "====================\n",
      "/testone/bar2\n",
      "\n",
      "--------------------\n",
      "leaf and flower\n",
      "etc foo\n",
      "====================\n",
      "/testone/bar 3\n",
      "\n",
      "--------------------\n",
      "etcetc\n",
      "====================\n"
     ]
    }
   ],
   "source": [
    "s=%snip_search \"**/bar*\""
   ]
  },
  {
   "cell_type": "markdown",
   "metadata": {},
   "source": [
    "search any menu at all levels for the ones containing the string `etc` as a cell content"
   ]
  },
  {
   "cell_type": "code",
   "execution_count": 17,
   "metadata": {
    "run_control": {
     "marked": true
    }
   },
   "outputs": [
    {
     "name": "stdout",
     "output_type": "stream",
     "text": [
      "Filter: etc\n",
      "\n",
      "-> testone/bar/snippet \n",
      "leaf\n",
      "etc\n",
      "\n",
      "-> testone/bar2/snippet \n",
      "leaf and flower\n",
      "etc foo\n",
      "\n",
      "-> testone/bar 3/snippet \n",
      "etcetc\n"
     ]
    }
   ],
   "source": [
    "s=%snip_search \"**\" -f etc"
   ]
  },
  {
   "cell_type": "markdown",
   "metadata": {},
   "source": [
    "## Hacking\n",
    "since you get the hold of the internal (dpath) menu dictionary with `%snip_get_all` or `%snip_get path/to/menu` you can operate directly with dpath and build your custom filter or operate on the search results. \n",
    "\n",
    "The previous query `s = %snip_search \"**\" -f etc` is equivalent to\n",
    "\n",
    "    all = %snip_get_all\n",
    "    search = dpath.util.search(all, '**', afilter=lambda x: 'etc' in str(x))\n",
    "in both cases returns an iteratable that can be used to treat the result:\n",
    "\n",
    "Unfortunatly, as far as I know, with ipython's magics that use argparse, you can't pass a variable value so you **can't** do expression like:\n",
    "\n",
    "    for path,v in search:\n",
    "        %snip_rm path\n",
    "but is possible to directly use dpath while iterating on the search results\n",
    "\n",
    "    for path,v in search:\n",
    "        dpath.util.delete(all, path)"
   ]
  },
  {
   "cell_type": "markdown",
   "metadata": {},
   "source": [
    "## Subset"
   ]
  },
  {
   "cell_type": "markdown",
   "metadata": {},
   "source": [
    "Accepts the same parameter as search but returns a dictionary with the results of the search"
   ]
  },
  {
   "cell_type": "code",
   "execution_count": 18,
   "metadata": {},
   "outputs": [
    {
     "name": "stdout",
     "output_type": "stream",
     "text": [
      "Filter: etc\n",
      "{\n",
      "    \"testone\": {\n",
      "        \"bar\": {\n",
      "            \"snippet\": [\n",
      "                \"etc\"\n",
      "            ]\n",
      "        },\n",
      "        \"bar2\": {\n",
      "            \"snippet\": [\n",
      "                \"etc foo\"\n",
      "            ]\n",
      "        },\n",
      "        \"bar 3\": {\n",
      "            \"snippet\": [\n",
      "                \"etcetc\"\n",
      "            ]\n",
      "        }\n",
      "    }\n",
      "}\n"
     ]
    }
   ],
   "source": [
    "import json\n",
    "sub=%snip_subset \"**\" -f etc\n",
    "print(json.dumps(sub, indent=4))"
   ]
  },
  {
   "cell_type": "markdown",
   "metadata": {},
   "source": [
    "# Clear"
   ]
  },
  {
   "cell_type": "markdown",
   "metadata": {},
   "source": [
    "clear the current menu from the memory\n",
    "\n",
    "    %snip_clear"
   ]
  },
  {
   "cell_type": "markdown",
   "metadata": {},
   "source": [
    "# Remove elements from the default menu"
   ]
  },
  {
   "cell_type": "code",
   "execution_count": 19,
   "metadata": {
    "run_control": {
     "marked": true
    }
   },
   "outputs": [],
   "source": [
    "%snip_slice_default 3 1"
   ]
  },
  {
   "cell_type": "code",
   "execution_count": 20,
   "metadata": {
    "run_control": {
     "marked": true
    }
   },
   "outputs": [],
   "source": [
    "%snip_slice_default 4 3 "
   ]
  },
  {
   "cell_type": "markdown",
   "metadata": {},
   "source": [
    "# Develop it further"
   ]
  },
  {
   "cell_type": "markdown",
   "metadata": {},
   "source": [
    "This software has been quickly written to fulfil my personal needs for a simple solution to manage snippets, bookmarks etc using the Snippets menu in jupyter notebooks, but it can be potentially useful even without the menu. You can use it as is to keep truck of things, or it can be further extended to do any sort of crazy stuff. \n",
    "\n",
    "To develop it I've followed the [K.I.S.S. principles](https://en.wikipedia.org/wiki/KISS_principle) and I'm open to any resonable suggestions via the issue tracker or pull requests"
   ]
  },
  {
   "cell_type": "markdown",
   "metadata": {},
   "source": [
    "In order to quick test changes in this module you can load the module source directly in this notebook, make changes and then register. \n",
    "\n",
    "At this point the changes are in the working kernel and can be tested in the current notebook without reloading (but the dictionary will be empty)\n",
    "\n",
    "Once the changes are stable you can write back to the module file and reload the extension in other notebooks.\n",
    "\n",
    "First clone this repo localy and, in the working dir, have it installed with\n",
    "\n",
    "    flit install -s\n",
    "### load the module source in this notebook\n",
    "    %load snippets_menu_magic/snippets.py\n",
    "### register in the current ipython kernel \n",
    "    get_ipython().register_magics(SnippetsMenuMagic)\n",
    "### write back the changes  in the module\n",
    "    %%writefile snippets_menu_magic/snippets.py\n",
    "### reload the extension from other notebooks\n",
    "    %reload_ext snippets_menu_magic\n"
   ]
  },
  {
   "cell_type": "markdown",
   "metadata": {},
   "source": [
    "## Code"
   ]
  },
  {
   "cell_type": "code",
   "execution_count": 21,
   "metadata": {
    "code_folding": []
   },
   "outputs": [],
   "source": [
    "#%%writefile snippets_menu_magic/snippets.py\n",
    "#%load snippets_menu_magic/snippets.py\n"
   ]
  },
  {
   "cell_type": "code",
   "execution_count": 22,
   "metadata": {},
   "outputs": [],
   "source": [
    "#%%load snippets_menu_magic/nb_register.py\n",
    "#get_ipython().register_magics(SnippetsMenuMagic)"
   ]
  }
 ],
 "metadata": {
  "kernelspec": {
   "display_name": "Python 3",
   "language": "python",
   "name": "python3"
  },
  "language_info": {
   "codemirror_mode": {
    "name": "ipython",
    "version": 3
   },
   "file_extension": ".py",
   "mimetype": "text/x-python",
   "name": "python",
   "nbconvert_exporter": "python",
   "pygments_lexer": "ipython3",
   "version": "3.6.5"
  },
  "toc": {
   "base_numbering": 1,
   "nav_menu": {},
   "number_sections": false,
   "sideBar": false,
   "skip_h1_title": false,
   "title_cell": "Table of Contents",
   "title_sidebar": "Contents",
   "toc_cell": false,
   "toc_position": {
    "height": "565.667px",
    "left": "1107.03px",
    "top": "84.35px",
    "width": "237.467px"
   },
   "toc_section_display": true,
   "toc_window_display": true
  }
 },
 "nbformat": 4,
 "nbformat_minor": 2
}
